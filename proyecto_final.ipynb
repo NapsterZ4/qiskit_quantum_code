{
  "nbformat": 4,
  "nbformat_minor": 0,
  "metadata": {
    "colab": {
      "name": "proyecto_final",
      "provenance": [],
      "collapsed_sections": [],
      "toc_visible": true,
      "include_colab_link": true
    },
    "kernelspec": {
      "name": "python3",
      "display_name": "Python 3"
    }
  },
  "cells": [
    {
      "cell_type": "markdown",
      "metadata": {
        "id": "view-in-github",
        "colab_type": "text"
      },
      "source": [
        "<a href=\"https://colab.research.google.com/github/NapsterZ4/qiskit_quantum_code/blob/master/proyecto_final.ipynb\" target=\"_parent\"><img src=\"https://colab.research.google.com/assets/colab-badge.svg\" alt=\"Open In Colab\"/></a>"
      ]
    },
    {
      "cell_type": "markdown",
      "metadata": {
        "id": "BRunmvwaOSy7",
        "colab_type": "text"
      },
      "source": [
        "# **Encabezado**"
      ]
    },
    {
      "cell_type": "code",
      "metadata": {
        "id": "j-gVen0sN_th",
        "colab_type": "code",
        "outputId": "77aca2ef-96c5-4541-ca8c-fd6e2b846aca",
        "colab": {
          "base_uri": "https://localhost:8080/",
          "height": 124
        }
      },
      "source": [
        "from google.colab import drive\n",
        "drive.mount('/content/drive')"
      ],
      "execution_count": 0,
      "outputs": [
        {
          "output_type": "stream",
          "text": [
            "Go to this URL in a browser: https://accounts.google.com/o/oauth2/auth?client_id=947318989803-6bn6qk8qdgf4n4g3pfee6491hc0brc4i.apps.googleusercontent.com&redirect_uri=urn%3aietf%3awg%3aoauth%3a2.0%3aoob&response_type=code&scope=email%20https%3a%2f%2fwww.googleapis.com%2fauth%2fdocs.test%20https%3a%2f%2fwww.googleapis.com%2fauth%2fdrive%20https%3a%2f%2fwww.googleapis.com%2fauth%2fdrive.photos.readonly%20https%3a%2f%2fwww.googleapis.com%2fauth%2fpeopleapi.readonly\n",
            "\n",
            "Enter your authorization code:\n",
            "··········\n",
            "Mounted at /content/drive\n"
          ],
          "name": "stdout"
        }
      ]
    },
    {
      "cell_type": "code",
      "metadata": {
        "id": "8tjRpryUOPgB",
        "colab_type": "code",
        "colab": {}
      },
      "source": [
        "pip install qiskit"
      ],
      "execution_count": 0,
      "outputs": []
    },
    {
      "cell_type": "code",
      "metadata": {
        "id": "CsI5mGCwOZ8a",
        "colab_type": "code",
        "outputId": "674c8979-8c1d-4366-ad1b-b82fb76c8599",
        "colab": {
          "base_uri": "https://localhost:8080/",
          "height": 34
        }
      },
      "source": [
        "IBMQ.save_account('83566f121e1ee97e533a98ccfb2798b144a8745872daaff2a9fa06eadab636365e78eb38c76bf7984a1609de6c0c8e5afa17dc9a647985deb2f5e4b9d1f91009')\n",
        "from qiskit import *\n",
        "import numpy as np\n",
        "from qiskit.tools.visualization import plot_histogram\n",
        "from qiskit.tools.monitor import job_monitor\n",
        "import matplotlib.pyplot as plt\n",
        "%matplotlib inline"
      ],
      "execution_count": 250,
      "outputs": [
        {
          "output_type": "stream",
          "text": [
            "Credentials already present. Set overwrite=True to overwrite.\n"
          ],
          "name": "stderr"
        }
      ]
    },
    {
      "cell_type": "markdown",
      "metadata": {
        "id": "AaQ8gYiFeVZJ",
        "colab_type": "text"
      },
      "source": [
        "# **INTRODUCCION**\n",
        "\n",
        "# Entrelazamiento cuantico\n",
        "\n",
        "Cuando una particula tiene afectacion en la otra independientemente de la \n",
        "\n",
        "distancia\n",
        "![Entrelazamiento cuantico](https://drive.google.com/uc?id=1DVcVOcX9pX0QrmehVG5lC3L_tP6-NRkz)\n",
        "\n",
        "# Superpocicion de estados\n",
        "\n",
        "Cuando 1 sola particula o mas puede estar en 2 estados en el mismo segmento de tiempo\n",
        "\n",
        "![Superposicion cuantica](https://drive.google.com/uc?id=1IQXYWsdaSyeyK2r8pfvaZ0rzv1FC0iJ-)\n",
        "\n",
        "Aqui es donde encontramos las desigualdades de Bell\n",
        "\n",
        "![Desigualdades de Bell](https://drive.google.com/uc?id=1Og731gLrvK6qW3XWyhaH6VhaNqnt0bou)\n",
        "\n",
        "Esfera de Bloch\n",
        "\n",
        "![Esfera de Bloch](https://drive.google.com/uc?id=12lvevtpotg8K73o1O8MWUMp7QWdxhuqH)\n",
        "\n",
        "![Esfera de Bloch 2](https://drive.google.com/uc?id=1lxCtifBxdydLHexFrQvdHBt_o1361Mcz)\n",
        "\n",
        "# Teleportacion cuantica\n",
        "\n",
        "Enviar informacion a distancia por un canal **clasico** sin que dos particulas interactuen\n",
        "\n",
        "![Teleportacion cuantica](https://drive.google.com/uc?id=14JTEfZ2FFRllsQFkCcwiYZrXBAdNsgw7)\n",
        "\n",
        "# Circuitos cuanticos\n",
        "Esas transformaciones de estados se realizan a traves de circuitos cuanticos\n",
        "\n",
        "![Circuitos cuanticos](https://drive.google.com/uc?id=175loASHXMIgsHApCQ7Tvg7iLl2VLzen1)\n",
        "\n",
        "#Informacion sobre circuitos\n",
        "![Informacion de circuitos](https://drive.google.com/uc?id=19J9lXzT1gYekDn0mnPEtbiJRyq3bpLwd)\n",
        "\n"
      ]
    },
    {
      "cell_type": "markdown",
      "metadata": {
        "id": "SYiPSejK4ec-",
        "colab_type": "text"
      },
      "source": [
        "# **Circuitos Cuanticos**\n",
        "\n",
        "![Quantum Gates]('https://en.wikipedia.org/wiki/Quantum_logic_gate#/media/File:Quantum_Logic_Gates.png')"
      ]
    },
    {
      "cell_type": "code",
      "metadata": {
        "id": "5wmvG4Bn4j1v",
        "colab_type": "code",
        "outputId": "9f012bbc-e4df-4d15-b52a-107b8ffdb07e",
        "colab": {
          "base_uri": "https://localhost:8080/",
          "height": 34
        }
      },
      "source": [
        "circuit  = QuantumCircuit(3, 3)\n",
        "circuit.x(0)\n",
        "\n",
        "circuit.barrier()\n",
        "\n",
        "circuit.h(0)\n",
        "circuit.cx(1,2)\n",
        "\n",
        "circuit.barrier()\n",
        "\n",
        "circuit.cx(0,1)\n",
        "circuit.h(0)\n",
        "\n",
        "circuit.measure([0,1], [0,1])\n",
        "\n",
        "circuit.barrier()\n",
        "\n",
        "circuit.cx(1, 2)\n",
        "circuit.cz(0, 2)\n",
        "\n",
        "circuit.measure([2], [2])"
      ],
      "execution_count": 0,
      "outputs": [
        {
          "output_type": "execute_result",
          "data": {
            "text/plain": [
              "<qiskit.circuit.instructionset.InstructionSet at 0x7f0704a699e8>"
            ]
          },
          "metadata": {
            "tags": []
          },
          "execution_count": 66
        }
      ]
    },
    {
      "cell_type": "code",
      "metadata": {
        "id": "iEiusxvt5jfR",
        "colab_type": "code",
        "outputId": "fddae9b0-fc44-485f-f1f1-5749f5bea850",
        "colab": {
          "base_uri": "https://localhost:8080/",
          "height": 231
        }
      },
      "source": [
        "circuit.draw(output='mpl')"
      ],
      "execution_count": 0,
      "outputs": [
        {
          "output_type": "execute_result",
          "data": {
            "image/png": "[encoded data removed]",
            "text/plain": [
              "<Figure size 818.72x264.88 with 1 Axes>"
            ]
          },
          "metadata": {
            "tags": []
          },
          "execution_count": 67
        }
      ]
    },
    {
      "cell_type": "code",
      "metadata": {
        "id": "yUrqbHSUOEyx",
        "colab_type": "code",
        "colab": {}
      },
      "source": [
        "simulator = Aer.get_backend('qasm_simulator')\n",
        "hist = execute(circuit, simulator, shots=1024)\n",
        "result = hist.result().get_counts()"
      ],
      "execution_count": 0,
      "outputs": []
    },
    {
      "cell_type": "code",
      "metadata": {
        "id": "pF1Wbk3b9CvO",
        "colab_type": "code",
        "outputId": "4172667d-8ab5-49ab-ff6e-7decc1513dcc",
        "colab": {
          "base_uri": "https://localhost:8080/",
          "height": 340
        }
      },
      "source": [
        "plot_histogram(result)"
      ],
      "execution_count": 0,
      "outputs": [
        {
          "output_type": "execute_result",
          "data": {
            "image/png": "[encoded data removed]",
            "text/plain": [
              "<Figure size 504x360 with 1 Axes>"
            ]
          },
          "metadata": {
            "tags": []
          },
          "execution_count": 69
        }
      ]
    },
    {
      "cell_type": "markdown",
      "metadata": {
        "id": "iEGnu_WPTrIm",
        "colab_type": "text"
      },
      "source": [
        "# **IBM Q Experience**"
      ]
    },
    {
      "cell_type": "code",
      "metadata": {
        "id": "R-exm4QZTvRN",
        "colab_type": "code",
        "outputId": "087f80ae-fdb4-4625-f5fe-dfa050cc2463",
        "colab": {
          "base_uri": "https://localhost:8080/",
          "height": 34
        }
      },
      "source": [
        "IBMQ.load_account()\n",
        "provider = IBMQ.get_provider(hub='ibm-q')\n",
        "device = provider.get_backend('ibmqx2')"
      ],
      "execution_count": 244,
      "outputs": [
        {
          "output_type": "stream",
          "text": [
            "Credentials are already in use. The existing account in the session will be replaced.\n"
          ],
          "name": "stderr"
        }
      ]
    },
    {
      "cell_type": "code",
      "metadata": {
        "id": "ECuK4Oz6U558",
        "colab_type": "code",
        "outputId": "6fa8eb3b-fc56-4931-f3d8-8c1ee9002c27",
        "colab": {
          "base_uri": "https://localhost:8080/",
          "height": 382
        }
      },
      "source": [
        "job = execute(circuit, backend=device, shots=1024)\n",
        "print(job.job_id())\n",
        "job_monitor(job)"
      ],
      "execution_count": 245,
      "outputs": [
        {
          "output_type": "stream",
          "text": [
            "5df71387a7858900117d4761\n",
            "Job Status: job is queued (25)    "
          ],
          "name": "stdout"
        },
        {
          "output_type": "error",
          "ename": "KeyboardInterrupt",
          "evalue": "ignored",
          "traceback": [
            "\u001b[0;31m---------------------------------------------------------------------------\u001b[0m",
            "\u001b[0;31mKeyboardInterrupt\u001b[0m                         Traceback (most recent call last)",
            "\u001b[0;32m<ipython-input-245-9a6ed81806e5>\u001b[0m in \u001b[0;36m<module>\u001b[0;34m()\u001b[0m\n\u001b[1;32m      1\u001b[0m \u001b[0mjob\u001b[0m \u001b[0;34m=\u001b[0m \u001b[0mexecute\u001b[0m\u001b[0;34m(\u001b[0m\u001b[0mcircuit\u001b[0m\u001b[0;34m,\u001b[0m \u001b[0mbackend\u001b[0m\u001b[0;34m=\u001b[0m\u001b[0mdevice\u001b[0m\u001b[0;34m,\u001b[0m \u001b[0mshots\u001b[0m\u001b[0;34m=\u001b[0m\u001b[0;36m1024\u001b[0m\u001b[0;34m)\u001b[0m\u001b[0;34m\u001b[0m\u001b[0;34m\u001b[0m\u001b[0m\n\u001b[1;32m      2\u001b[0m \u001b[0mprint\u001b[0m\u001b[0;34m(\u001b[0m\u001b[0mjob\u001b[0m\u001b[0;34m.\u001b[0m\u001b[0mjob_id\u001b[0m\u001b[0;34m(\u001b[0m\u001b[0;34m)\u001b[0m\u001b[0;34m)\u001b[0m\u001b[0;34m\u001b[0m\u001b[0;34m\u001b[0m\u001b[0m\n\u001b[0;32m----> 3\u001b[0;31m \u001b[0mjob_monitor\u001b[0m\u001b[0;34m(\u001b[0m\u001b[0mjob\u001b[0m\u001b[0;34m)\u001b[0m\u001b[0;34m\u001b[0m\u001b[0;34m\u001b[0m\u001b[0m\n\u001b[0m",
            "\u001b[0;32m/usr/local/lib/python3.6/dist-packages/qiskit/tools/monitor/job_monitor.py\u001b[0m in \u001b[0;36mjob_monitor\u001b[0;34m(job, interval, quiet, output)\u001b[0m\n\u001b[1;32m     84\u001b[0m \u001b[0;34m\u001b[0m\u001b[0m\n\u001b[1;32m     85\u001b[0m     _text_checker(job, interval, _interval_set,\n\u001b[0;32m---> 86\u001b[0;31m                   quiet=quiet, output=output)\n\u001b[0m",
            "\u001b[0;32m/usr/local/lib/python3.6/dist-packages/qiskit/tools/monitor/job_monitor.py\u001b[0m in \u001b[0;36m_text_checker\u001b[0;34m(job, interval, _interval_set, quiet, output)\u001b[0m\n\u001b[1;32m     40\u001b[0m         \u001b[0mprint\u001b[0m\u001b[0;34m(\u001b[0m\u001b[0;34m'\\r%s: %s'\u001b[0m \u001b[0;34m%\u001b[0m \u001b[0;34m(\u001b[0m\u001b[0;34m'Job Status'\u001b[0m\u001b[0;34m,\u001b[0m \u001b[0mmsg\u001b[0m\u001b[0;34m)\u001b[0m\u001b[0;34m,\u001b[0m \u001b[0mend\u001b[0m\u001b[0;34m=\u001b[0m\u001b[0;34m''\u001b[0m\u001b[0;34m,\u001b[0m \u001b[0mfile\u001b[0m\u001b[0;34m=\u001b[0m\u001b[0moutput\u001b[0m\u001b[0;34m)\u001b[0m\u001b[0;34m\u001b[0m\u001b[0;34m\u001b[0m\u001b[0m\n\u001b[1;32m     41\u001b[0m     \u001b[0;32mwhile\u001b[0m \u001b[0mstatus\u001b[0m\u001b[0;34m.\u001b[0m\u001b[0mname\u001b[0m \u001b[0;32mnot\u001b[0m \u001b[0;32min\u001b[0m \u001b[0;34m[\u001b[0m\u001b[0;34m'DONE'\u001b[0m\u001b[0;34m,\u001b[0m \u001b[0;34m'CANCELLED'\u001b[0m\u001b[0;34m,\u001b[0m \u001b[0;34m'ERROR'\u001b[0m\u001b[0;34m]\u001b[0m\u001b[0;34m:\u001b[0m\u001b[0;34m\u001b[0m\u001b[0;34m\u001b[0m\u001b[0m\n\u001b[0;32m---> 42\u001b[0;31m         \u001b[0mtime\u001b[0m\u001b[0;34m.\u001b[0m\u001b[0msleep\u001b[0m\u001b[0;34m(\u001b[0m\u001b[0minterval\u001b[0m\u001b[0;34m)\u001b[0m\u001b[0;34m\u001b[0m\u001b[0;34m\u001b[0m\u001b[0m\n\u001b[0m\u001b[1;32m     43\u001b[0m         \u001b[0mstatus\u001b[0m \u001b[0;34m=\u001b[0m \u001b[0mjob\u001b[0m\u001b[0;34m.\u001b[0m\u001b[0mstatus\u001b[0m\u001b[0;34m(\u001b[0m\u001b[0;34m)\u001b[0m\u001b[0;34m\u001b[0m\u001b[0;34m\u001b[0m\u001b[0m\n\u001b[1;32m     44\u001b[0m         \u001b[0mmsg\u001b[0m \u001b[0;34m=\u001b[0m \u001b[0mstatus\u001b[0m\u001b[0;34m.\u001b[0m\u001b[0mvalue\u001b[0m\u001b[0;34m\u001b[0m\u001b[0;34m\u001b[0m\u001b[0m\n",
            "\u001b[0;31mKeyboardInterrupt\u001b[0m: "
          ]
        }
      ]
    },
    {
      "cell_type": "code",
      "metadata": {
        "id": "hFdOX8i-XQ4Y",
        "colab_type": "code",
        "outputId": "9f5da5d6-f98f-43d7-81de-287cd0024018",
        "colab": {
          "base_uri": "https://localhost:8080/",
          "height": 343
        }
      },
      "source": [
        "job_result = job.result()\n",
        "plot_histogram(job_result.get_counts(circuit))"
      ],
      "execution_count": 239,
      "outputs": [
        {
          "output_type": "execute_result",
          "data": {
            "image/png": "[encoded data removed]",
            "text/plain": [
              "<Figure size 504x360 with 1 Axes>"
            ]
          },
          "metadata": {
            "tags": []
          },
          "execution_count": 239
        }
      ]
    },
    {
      "cell_type": "markdown",
      "metadata": {
        "id": "KSd6Nro1F0Un",
        "colab_type": "text"
      },
      "source": [
        "# **Conversiones**"
      ]
    },
    {
      "cell_type": "code",
      "metadata": {
        "id": "pRQLhvCMF4WD",
        "colab_type": "code",
        "outputId": "5709a0eb-63fd-4f07-b77f-73d2aa7642f4",
        "colab": {
          "base_uri": "https://localhost:8080/",
          "height": 34
        }
      },
      "source": [
        "analizer_states = job_result.get_counts(circuit)\n",
        "print(analizer_states)"
      ],
      "execution_count": 0,
      "outputs": [
        {
          "output_type": "stream",
          "text": [
            "{'001': 212, '010': 12, '110': 216, '100': 13, '000': 248, '101': 17, '011': 10, '111': 296}\n"
          ],
          "name": "stdout"
        }
      ]
    },
    {
      "cell_type": "code",
      "metadata": {
        "id": "IEt7V1inGLzC",
        "colab_type": "code",
        "outputId": "8e85df79-2883-4b93-cb25-ca7ff47d5144",
        "colab": {
          "base_uri": "https://localhost:8080/",
          "height": 156
        }
      },
      "source": [
        "#Conversion de los valores del diccionario a valores a float\n",
        "a = analizer_states\n",
        "a = {k: v / total for total in (sum(a.values()),) for k, v in a.items()}\n",
        "analizer_states = a\n",
        "\n",
        "analizer_states"
      ],
      "execution_count": 246,
      "outputs": [
        {
          "output_type": "execute_result",
          "data": {
            "text/plain": [
              "{'000': 0.2421875,\n",
              " '001': 0.20703125,\n",
              " '010': 0.01171875,\n",
              " '011': 0.009765625,\n",
              " '100': 0.0126953125,\n",
              " '101': 0.0166015625,\n",
              " '110': 0.2109375,\n",
              " '111': 0.2890625}"
            ]
          },
          "metadata": {
            "tags": []
          },
          "execution_count": 246
        }
      ]
    },
    {
      "cell_type": "code",
      "metadata": {
        "id": "PXOMLCOrRxnu",
        "colab_type": "code",
        "outputId": "ab36e9bc-ba0b-4339-b3d8-480793f061bc",
        "colab": {
          "base_uri": "https://localhost:8080/",
          "height": 312
        }
      },
      "source": [
        "#Convertir a matriz\n",
        "matrix_transition = np.array([list(analizer_states.values()) for item in analizer_states.values()])\n",
        "\n",
        "#Extrayendo los estados\n",
        "states = list(analizer_states.keys())\n",
        "\n",
        "#Convertir a matrices de tipo 1D y 2D\n",
        "matrix_transition = np.matrix(matrix__transition)\n",
        "\n",
        "#Llenar matriz de estados\n",
        "\n",
        "#Convirtiendo a float\n",
        "matrix_transition = matrix_transition.astype(float)\n",
        "\n",
        "print(matrix_transition)\n",
        "print(states)"
      ],
      "execution_count": 0,
      "outputs": [
        {
          "output_type": "stream",
          "text": [
            "[[0.20703125 0.01171875 0.2109375  0.01269531 0.2421875  0.01660156\n",
            "  0.00976562 0.2890625 ]\n",
            " [0.20703125 0.01171875 0.2109375  0.01269531 0.2421875  0.01660156\n",
            "  0.00976562 0.2890625 ]\n",
            " [0.20703125 0.01171875 0.2109375  0.01269531 0.2421875  0.01660156\n",
            "  0.00976562 0.2890625 ]\n",
            " [0.20703125 0.01171875 0.2109375  0.01269531 0.2421875  0.01660156\n",
            "  0.00976562 0.2890625 ]\n",
            " [0.20703125 0.01171875 0.2109375  0.01269531 0.2421875  0.01660156\n",
            "  0.00976562 0.2890625 ]\n",
            " [0.20703125 0.01171875 0.2109375  0.01269531 0.2421875  0.01660156\n",
            "  0.00976562 0.2890625 ]\n",
            " [0.20703125 0.01171875 0.2109375  0.01269531 0.2421875  0.01660156\n",
            "  0.00976562 0.2890625 ]\n",
            " [0.20703125 0.01171875 0.2109375  0.01269531 0.2421875  0.01660156\n",
            "  0.00976562 0.2890625 ]]\n",
            "[['001' '010' '110' '100' '000' '101' '011' '111']]\n"
          ],
          "name": "stdout"
        }
      ]
    },
    {
      "cell_type": "code",
      "metadata": {
        "id": "7xI6eQ34MF5D",
        "colab_type": "code",
        "colab": {
          "base_uri": "https://localhost:8080/",
          "height": 421
        },
        "outputId": "164d7c59-3e19-47ca-8870-97ff508a171e"
      },
      "source": [
        "poisson = np.random.poisson(matrix_transition)\n",
        "print(poisson)\n",
        "print(np.mean(poisson))\n",
        "plt.hist(poisson)\n",
        "plt.show()"
      ],
      "execution_count": 258,
      "outputs": [
        {
          "output_type": "stream",
          "text": [
            "[[0 0 0 0 0 0 0 0]\n",
            " [1 0 0 0 0 0 0 0]\n",
            " [1 0 0 0 0 0 0 0]\n",
            " [1 0 0 0 0 0 0 0]\n",
            " [0 0 0 0 0 0 0 2]\n",
            " [0 0 0 0 0 0 0 0]\n",
            " [1 0 0 0 0 0 0 0]\n",
            " [0 0 0 0 1 0 0 2]]\n",
            "0.140625\n"
          ],
          "name": "stdout"
        },
        {
          "output_type": "display_data",
          "data": {
            "image/png": "[encoded data removed]",
            "text/plain": [
              "<Figure size 432x288 with 1 Axes>"
            ]
          },
          "metadata": {
            "tags": []
          }
        }
      ]
    },
    {
      "cell_type": "markdown",
      "metadata": {
        "id": "EOzKOBj-OIqz",
        "colab_type": "text"
      },
      "source": [
        "# **Cadenas de Markov**"
      ]
    },
    {
      "cell_type": "code",
      "metadata": {
        "id": "_sXvuWkbOQQj",
        "colab_type": "code",
        "colab": {}
      },
      "source": [
        "#Generador de estados\n",
        "class MarkovChainStates(object):\n",
        "  def __init__(self, transition_matrix):\n",
        "    self.transition_matrix = transition_matrix\n",
        "    self.states = list(transition_matrix.keys())\n",
        "\n",
        "  def next_state(self, current_state):\n",
        "    return np.random.choice(self.states, p=[self.transition_matrix[current_state][next_state] for next_state in self.states])\n",
        "  \n",
        "  def generate_states(self, current_state, no):\n",
        "    future_states = []\n",
        "    for i in range(no):\n",
        "      next_state = self.next_state(current_state)\n",
        "      future_states.append(next_state)\n",
        "      current_state = next_state\n",
        "    return future_states"
      ],
      "execution_count": 0,
      "outputs": []
    },
    {
      "cell_type": "code",
      "metadata": {
        "id": "ryg5wH8icYL5",
        "colab_type": "code",
        "colab": {}
      },
      "source": [
        "#Generador de probabilidades\n",
        "class MarkovChainProbabilities(object):\n",
        "  def __init__(self, transition_matrix, states, iterations):\n",
        "    self.transition_matrix = transition_matrix\n",
        "    self.states = states\n",
        "    self.iterations = iterations\n",
        "  \n",
        "  def generate_probabilities(self, transition_matrix, states, iterations):\n",
        "    states = self.states \n",
        "    for i in range(0, self.iterations):\n",
        "      states = states * self.transition_matrix\n",
        "      print(states)"
      ],
      "execution_count": 0,
      "outputs": []
    },
    {
      "cell_type": "code",
      "metadata": {
        "id": "aI8DFT9NO7em",
        "colab_type": "code",
        "outputId": "e7052c5a-25b5-4c8e-bbbe-81fae7534678",
        "colab": {
          "base_uri": "https://localhost:8080/",
          "height": 1000
        }
      },
      "source": [
        "#Analisis de Markov\n",
        "mc = MarkovChainProbabilities(transition_matrix=np.matrix([[0.20703125, 0.01171875, 0.01269531 ,0.2109375, 0.2421875,  0.01660156, 0.00976562, 0.2890625],\n",
        "                                                          [0.01171875, 0.2109375,  0.01269531, 0.2421875,  0.01660156, 0.00976562, 0.2890625, 0.20703125],\n",
        "                                                          [0.2109375,  0.01269531, 0.2421875,  0.01660156, 0.00976562, 0.2890625, 0.20703125, 0.01171875],\n",
        "                                                          [0.01269531, 0.2421875,  0.01660156, 0.00976562, 0.2890625, 0.20703125, 0.01171875, 0.2109375],\n",
        "                                                          [0.2421875,  0.01660156, 0.00976562, 0.2890625, 0.20703125, 0.01171875, 0.2109375,  0.01269531],\n",
        "                                                          [0.01660156, 0.00976562, 0.2890625, 0.20703125, 0.01171875, 0.2109375,  0.01269531, 0.2421875],\n",
        "                                                          [0.00976562, 0.2890625, 0.20703125, 0.01171875, 0.2109375,  0.01269531, 0.2421875,  0.01660156],\n",
        "                                                          [0.2890625, 0.20703125, 0.01171875, 0.2109375,  0.01269531, 0.2421875,  0.00976562, 0.01660156]]), states=np.matrix([[0,0,1,0,0,0,0,0]]), iterations = 50)\n",
        "mc.generate_probabilities(transition_matrix=matrix_transition, states=states, iterations = 50)\n",
        "#mc = MarkovChain(transition_matrix = matrix_transition)   \n",
        "#mc.generate_states(current_state='000', no=10)"
      ],
      "execution_count": 240,
      "outputs": [
        {
          "output_type": "stream",
          "text": [
            "[[0.2109375  0.01269531 0.2421875  0.01660156 0.00976562 0.2890625\n",
            "  0.20703125 0.01171875]]\n",
            "[[0.10768985 0.07750129 0.18842125 0.11931801 0.10768985 0.14362526\n",
            "  0.1120491  0.14370537]]\n",
            "[[0.13556287 0.11423042 0.11741524 0.13826892 0.11313621 0.14949683\n",
            "  0.11694118 0.11494831]]\n",
            "[[0.12017834 0.1216011  0.10377949 0.14883129 0.12714426 0.12811637\n",
            "  0.11547936 0.13486976]]\n",
            "[[0.12311933 0.1290861  0.09443801 0.15105581 0.12905481 0.12663848\n",
            "  0.11728436 0.12932305]]\n",
            "[[0.12072615 0.13051029 0.09224506 0.15245303 0.1311317  0.12291089\n",
            "  0.11833603 0.13168678]]\n",
            "[[0.12093719 0.13188465 0.09091306 0.15260993 0.13159636 0.12236431\n",
            "  0.11895526 0.13073918]]\n",
            "[[0.1205536  0.13218331 0.09057683 0.15279524 0.13191101 0.1216972\n",
            "  0.11931246 0.13097027]]\n",
            "[[0.12054454 0.13243223 0.09038429 0.15278866 0.13200896 0.12155839\n",
            "  0.11947428 0.13080857]]\n",
            "[[0.12048113 0.13249416 0.09033304 0.15281114 0.13205784 0.12143841\n",
            "  0.11956271 0.13082147]]\n",
            "[[0.12047265 0.13253914 0.09030524 0.15280518 0.13207705 0.12140731\n",
            "  0.11959998 0.13079335]]\n",
            "[[0.12046185 0.1325517  0.09029745 0.15280738 0.13208486 0.12138567\n",
            "  0.11961948 0.13079149]]\n",
            "[[0.12045933 0.13255983 0.09029346 0.15280565 0.13208847 0.12137914\n",
            "  0.1196275  0.13078649]]\n",
            "[[0.12045744 0.13256233 0.09029229 0.15280574 0.13208975 0.12137523\n",
            "  0.11963155 0.13078555]]\n",
            "[[0.12045684 0.13256379 0.09029172 0.15280533 0.13209041 0.12137391\n",
            "  0.1196332  0.13078464]]\n",
            "[[0.1204565  0.13256428 0.09029154 0.15280529 0.13209063 0.1213732\n",
            "  0.11963401 0.13078438]]\n",
            "[[0.12045638 0.13256455 0.09029146 0.15280521 0.13209074 0.12137294\n",
            "  0.11963434 0.13078422]]\n",
            "[[0.12045631 0.13256464 0.09029144 0.15280519 0.13209078 0.12137281\n",
            "  0.1196345  0.13078416]]\n",
            "[[0.12045629 0.13256468 0.09029142 0.15280517 0.1320908  0.12137276\n",
            "  0.11963456 0.13078412]]\n",
            "[[0.12045627 0.1325647  0.09029142 0.15280517 0.13209081 0.12137273\n",
            "  0.11963459 0.13078411]]\n",
            "[[0.12045627 0.13256471 0.09029142 0.15280516 0.13209081 0.12137272\n",
            "  0.1196346  0.1307841 ]]\n",
            "[[0.12045626 0.13256471 0.09029141 0.15280516 0.13209081 0.12137272\n",
            "  0.11963461 0.1307841 ]]\n",
            "[[0.12045626 0.13256471 0.09029141 0.15280516 0.13209081 0.12137271\n",
            "  0.11963461 0.1307841 ]]\n",
            "[[0.12045626 0.13256471 0.09029141 0.15280516 0.13209081 0.12137271\n",
            "  0.11963461 0.13078409]]\n",
            "[[0.12045626 0.13256471 0.09029141 0.15280515 0.1320908  0.12137271\n",
            "  0.11963461 0.13078409]]\n",
            "[[0.12045626 0.13256471 0.09029141 0.15280515 0.1320908  0.12137271\n",
            "  0.11963461 0.13078409]]\n",
            "[[0.12045626 0.13256471 0.09029141 0.15280515 0.1320908  0.12137271\n",
            "  0.11963461 0.13078409]]\n",
            "[[0.12045625 0.13256471 0.09029141 0.15280515 0.1320908  0.12137271\n",
            "  0.11963461 0.13078409]]\n",
            "[[0.12045625 0.1325647  0.09029141 0.15280515 0.1320908  0.1213727\n",
            "  0.11963461 0.13078409]]\n",
            "[[0.12045625 0.1325647  0.09029141 0.15280515 0.1320908  0.1213727\n",
            "  0.1196346  0.13078409]]\n",
            "[[0.12045625 0.1325647  0.09029141 0.15280514 0.1320908  0.1213727\n",
            "  0.1196346  0.13078409]]\n",
            "[[0.12045625 0.1325647  0.09029141 0.15280514 0.1320908  0.1213727\n",
            "  0.1196346  0.13078408]]\n",
            "[[0.12045625 0.1325647  0.0902914  0.15280514 0.13209079 0.1213727\n",
            "  0.1196346  0.13078408]]\n",
            "[[0.12045625 0.1325647  0.0902914  0.15280514 0.13209079 0.1213727\n",
            "  0.1196346  0.13078408]]\n",
            "[[0.12045625 0.1325647  0.0902914  0.15280514 0.13209079 0.1213727\n",
            "  0.1196346  0.13078408]]\n",
            "[[0.12045625 0.13256469 0.0902914  0.15280514 0.13209079 0.1213727\n",
            "  0.1196346  0.13078408]]\n",
            "[[0.12045624 0.13256469 0.0902914  0.15280514 0.13209079 0.12137269\n",
            "  0.1196346  0.13078408]]\n",
            "[[0.12045624 0.13256469 0.0902914  0.15280513 0.13209079 0.12137269\n",
            "  0.11963459 0.13078408]]\n",
            "[[0.12045624 0.13256469 0.0902914  0.15280513 0.13209079 0.12137269\n",
            "  0.11963459 0.13078407]]\n",
            "[[0.12045624 0.13256469 0.0902914  0.15280513 0.13209078 0.12137269\n",
            "  0.11963459 0.13078407]]\n",
            "[[0.12045624 0.13256469 0.0902914  0.15280513 0.13209078 0.12137269\n",
            "  0.11963459 0.13078407]]\n",
            "[[0.12045624 0.13256469 0.0902914  0.15280513 0.13209078 0.12137269\n",
            "  0.11963459 0.13078407]]\n",
            "[[0.12045624 0.13256469 0.0902914  0.15280513 0.13209078 0.12137269\n",
            "  0.11963459 0.13078407]]\n",
            "[[0.12045624 0.13256468 0.09029139 0.15280512 0.13209078 0.12137269\n",
            "  0.11963459 0.13078407]]\n",
            "[[0.12045623 0.13256468 0.09029139 0.15280512 0.13209078 0.12137268\n",
            "  0.11963459 0.13078407]]\n",
            "[[0.12045623 0.13256468 0.09029139 0.15280512 0.13209078 0.12137268\n",
            "  0.11963458 0.13078407]]\n",
            "[[0.12045623 0.13256468 0.09029139 0.15280512 0.13209078 0.12137268\n",
            "  0.11963458 0.13078406]]\n",
            "[[0.12045623 0.13256468 0.09029139 0.15280512 0.13209077 0.12137268\n",
            "  0.11963458 0.13078406]]\n",
            "[[0.12045623 0.13256468 0.09029139 0.15280512 0.13209077 0.12137268\n",
            "  0.11963458 0.13078406]]\n",
            "[[0.12045623 0.13256468 0.09029139 0.15280512 0.13209077 0.12137268\n",
            "  0.11963458 0.13078406]]\n"
          ],
          "name": "stdout"
        }
      ]
    }
  ]
}