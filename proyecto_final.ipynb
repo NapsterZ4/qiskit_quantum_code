{
  "nbformat": 4,
  "nbformat_minor": 0,
  "metadata": {
    "colab": {
      "name": "proyecto_final",
      "provenance": [],
      "collapsed_sections": [],
      "toc_visible": true,
      "include_colab_link": true
    },
    "kernelspec": {
      "name": "python3",
      "display_name": "Python 3"
    }
  },
  "cells": [
    {
      "cell_type": "markdown",
      "metadata": {
        "id": "view-in-github",
        "colab_type": "text"
      },
      "source": [
        "<a href=\"https://colab.research.google.com/github/NapsterZ4/qiskit_quantum_code/blob/master/proyecto_final.ipynb\" target=\"_parent\"><img src=\"https://colab.research.google.com/assets/colab-badge.svg\" alt=\"Open In Colab\"/></a>"
      ]
    },
    {
      "cell_type": "markdown",
      "metadata": {
        "id": "BRunmvwaOSy7",
        "colab_type": "text"
      },
      "source": [
        "# **Encabezado**"
      ]
    },
    {
      "cell_type": "code",
      "metadata": {
        "id": "j-gVen0sN_th",
        "colab_type": "code",
        "outputId": "b6d0c51b-a308-4948-d1c8-872403420b5f",
        "colab": {
          "base_uri": "https://localhost:8080/",
          "height": 124
        }
      },
      "source": [
        "from google.colab import drive\n",
        "drive.mount('/content/drive')"
      ],
      "execution_count": 1,
      "outputs": [
        {
          "output_type": "stream",
          "text": [
            "Go to this URL in a browser: https://accounts.google.com/o/oauth2/auth?client_id=947318989803-6bn6qk8qdgf4n4g3pfee6491hc0brc4i.apps.googleusercontent.com&redirect_uri=urn%3aietf%3awg%3aoauth%3a2.0%3aoob&response_type=code&scope=email%20https%3a%2f%2fwww.googleapis.com%2fauth%2fdocs.test%20https%3a%2f%2fwww.googleapis.com%2fauth%2fdrive%20https%3a%2f%2fwww.googleapis.com%2fauth%2fdrive.photos.readonly%20https%3a%2f%2fwww.googleapis.com%2fauth%2fpeopleapi.readonly\n",
            "\n",
            "Enter your authorization code:\n",
            "··········\n",
            "Mounted at /content/drive\n"
          ],
          "name": "stdout"
        }
      ]
    },
    {
      "cell_type": "code",
      "metadata": {
        "id": "8tjRpryUOPgB",
        "colab_type": "code",
        "colab": {
          "base_uri": "https://localhost:8080/",
          "height": 1000
        },
        "outputId": "c0b311df-ff8f-4540-9c6e-5105cee28dde"
      },
      "source": [
        "pip install qiskit"
      ],
      "execution_count": 2,
      "outputs": [
        {
          "output_type": "stream",
          "text": [
            "Collecting qiskit\n",
            "  Downloading https://files.pythonhosted.org/packages/59/2d/563ea183a9462f1300e861796535405d0fca8616b6db849488eac225893b/qiskit-0.14.0.tar.gz\n",
            "Collecting qiskit-terra==0.11.0\n",
            "\u001b[?25l  Downloading https://files.pythonhosted.org/packages/30/e4/89f66e07d63d9cf1d912b39dc044c3c37673a3b644c8c6e243ca57ba72ef/qiskit_terra-0.11.0-cp36-cp36m-manylinux1_x86_64.whl (2.7MB)\n",
            "\u001b[K     |████████████████████████████████| 2.7MB 9.8MB/s \n",
            "\u001b[?25hCollecting qiskit-aer==0.3.4\n",
            "\u001b[?25l  Downloading https://files.pythonhosted.org/packages/bf/31/b7064395c744e759a1c20ca81e806752f9859bb604fef254a599d66a521d/qiskit_aer-0.3.4-cp36-cp36m-manylinux2010_x86_64.whl (18.2MB)\n",
            "\u001b[K     |████████████████████████████████| 18.2MB 120kB/s \n",
            "\u001b[?25hCollecting qiskit-ibmq-provider==0.4.4\n",
            "\u001b[?25l  Downloading https://files.pythonhosted.org/packages/7f/91/1236cd0da9552744aae173792c44a7a1611436f3a8156b62604aab2e67e5/qiskit_ibmq_provider-0.4.4-py3-none-any.whl (89kB)\n",
            "\u001b[K     |████████████████████████████████| 92kB 7.6MB/s \n",
            "\u001b[?25hCollecting qiskit-ignis==0.2.0\n",
            "\u001b[?25l  Downloading https://files.pythonhosted.org/packages/78/f2/f4f89c65d2c13f473092f7e800519836611ddeeaab8d4591a70555b26a37/qiskit_ignis-0.2.0-py3-none-any.whl (100kB)\n",
            "\u001b[K     |████████████████████████████████| 102kB 12.3MB/s \n",
            "\u001b[?25hCollecting qiskit-aqua==0.6.1\n",
            "\u001b[?25l  Downloading https://files.pythonhosted.org/packages/47/2b/632c195974804d17dca01554caa013dd0c3023f4e4e6b91213c3381ce514/qiskit_aqua-0.6.1-py3-none-any.whl (979kB)\n",
            "\u001b[K     |████████████████████████████████| 983kB 42.5MB/s \n",
            "\u001b[?25hCollecting sympy>=1.3\n",
            "\u001b[?25l  Downloading https://files.pythonhosted.org/packages/4d/a7/25d5d6b3295537ab90bdbcd21e464633fb4a0684dd9a065da404487625bb/sympy-1.5-py2.py3-none-any.whl (5.6MB)\n",
            "\u001b[K     |████████████████████████████████| 5.6MB 20.0MB/s \n",
            "\u001b[?25hRequirement already satisfied: scipy>=1.0 in /usr/local/lib/python3.6/dist-packages (from qiskit-terra==0.11.0->qiskit) (1.3.3)\n",
            "Requirement already satisfied: dill>=0.3 in /usr/local/lib/python3.6/dist-packages (from qiskit-terra==0.11.0->qiskit) (0.3.1.1)\n",
            "Collecting ply>=3.10\n",
            "\u001b[?25l  Downloading https://files.pythonhosted.org/packages/a3/58/35da89ee790598a0700ea49b2a66594140f44dec458c07e8e3d4979137fc/ply-3.11-py2.py3-none-any.whl (49kB)\n",
            "\u001b[K     |████████████████████████████████| 51kB 6.5MB/s \n",
            "\u001b[?25hRequirement already satisfied: psutil>=5 in /usr/local/lib/python3.6/dist-packages (from qiskit-terra==0.11.0->qiskit) (5.4.8)\n",
            "Collecting marshmallow-polyfield<6,>=5.7\n",
            "  Downloading https://files.pythonhosted.org/packages/d7/6c/416e7e529d03362bb57bb4be16a0bb1ada6325b12adf3e31fec4c10ef1b1/marshmallow-polyfield-5.7.tar.gz\n",
            "Requirement already satisfied: numpy>=1.13 in /usr/local/lib/python3.6/dist-packages (from qiskit-terra==0.11.0->qiskit) (1.17.4)\n",
            "Requirement already satisfied: networkx>=2.2; python_version > \"3.5\" in /usr/local/lib/python3.6/dist-packages (from qiskit-terra==0.11.0->qiskit) (2.4)\n",
            "Collecting marshmallow<4,>=3\n",
            "\u001b[?25l  Downloading https://files.pythonhosted.org/packages/6e/76/01224f14737627166b94eb3bf0e334372c014edca781e39db320ce977755/marshmallow-3.3.0-py2.py3-none-any.whl (45kB)\n",
            "\u001b[K     |████████████████████████████████| 51kB 6.4MB/s \n",
            "\u001b[?25hRequirement already satisfied: jsonschema>=2.6 in /usr/local/lib/python3.6/dist-packages (from qiskit-terra==0.11.0->qiskit) (2.6.0)\n",
            "Requirement already satisfied: requests>=2.19 in /usr/local/lib/python3.6/dist-packages (from qiskit-ibmq-provider==0.4.4->qiskit) (2.21.0)\n",
            "Collecting nest-asyncio!=1.1.0,>=1.0.0\n",
            "  Downloading https://files.pythonhosted.org/packages/52/01/55100e0dda328f2181b719bddc5af0a24487de81038747d676d5be7ef879/nest_asyncio-1.2.1-py3-none-any.whl\n",
            "Collecting requests-ntlm>=1.1.0\n",
            "  Downloading https://files.pythonhosted.org/packages/03/4b/8b9a1afde8072c4d5710d9fa91433d504325821b038e00237dc8d6d833dc/requests_ntlm-1.1.0-py2.py3-none-any.whl\n",
            "Collecting websockets<8,>=7\n",
            "\u001b[?25l  Downloading https://files.pythonhosted.org/packages/43/71/8bfa882b9c502c36e5c9ef6732969533670d2b039cbf95a82ced8f762b80/websockets-7.0-cp36-cp36m-manylinux1_x86_64.whl (63kB)\n",
            "\u001b[K     |████████████████████████████████| 71kB 9.2MB/s \n",
            "\u001b[?25hRequirement already satisfied: setuptools>=40.1.0 in /usr/local/lib/python3.6/dist-packages (from qiskit-ignis==0.2.0->qiskit) (42.0.2)\n",
            "Requirement already satisfied: fastdtw in /usr/local/lib/python3.6/dist-packages (from qiskit-aqua==0.6.1->qiskit) (0.3.4)\n",
            "Collecting quandl\n",
            "  Downloading https://files.pythonhosted.org/packages/12/64/6314547cb01fa75697ddba6d6d43a9f1d023c1730ffc6abf3db7a0c89222/Quandl-3.4.8-py2.py3-none-any.whl\n",
            "Collecting docplex\n",
            "\u001b[?25l  Downloading https://files.pythonhosted.org/packages/1c/06/de7833f2e70d51286611a2676f130f0978d2c16f65047cb965d0af579d08/docplex-2.12.182.tar.gz (565kB)\n",
            "\u001b[K     |████████████████████████████████| 573kB 48.5MB/s \n",
            "\u001b[?25hRequirement already satisfied: scikit-learn>=0.20.0 in /usr/local/lib/python3.6/dist-packages (from qiskit-aqua==0.6.1->qiskit) (0.21.3)\n",
            "Collecting dlx\n",
            "  Downloading https://files.pythonhosted.org/packages/54/c0/b8fb5bb727e983b6f5251433ef941b48f38c65bb0bd6ec509e9185bcd406/dlx-1.0.4.tar.gz\n",
            "Collecting pyscf; sys_platform != \"win32\"\n",
            "\u001b[?25l  Downloading https://files.pythonhosted.org/packages/0e/ce/c20e3d841eb489a83d8d8c63af48d0a407acbcea35fa37c0d08710072a6d/pyscf-1.6.5-cp36-cp36m-manylinux1_x86_64.whl (21.7MB)\n",
            "\u001b[K     |████████████████████████████████| 21.7MB 64.5MB/s \n",
            "\u001b[?25hRequirement already satisfied: h5py in /usr/local/lib/python3.6/dist-packages (from qiskit-aqua==0.6.1->qiskit) (2.8.0)\n",
            "Requirement already satisfied: cvxopt in /usr/local/lib/python3.6/dist-packages (from qiskit-aqua==0.6.1->qiskit) (1.2.3)\n",
            "Requirement already satisfied: mpmath>=0.19 in /usr/local/lib/python3.6/dist-packages (from sympy>=1.3->qiskit-terra==0.11.0->qiskit) (1.1.0)\n",
            "Requirement already satisfied: six in /usr/local/lib/python3.6/dist-packages (from marshmallow-polyfield<6,>=5.7->qiskit-terra==0.11.0->qiskit) (1.12.0)\n",
            "Requirement already satisfied: decorator>=4.3.0 in /usr/local/lib/python3.6/dist-packages (from networkx>=2.2; python_version > \"3.5\"->qiskit-terra==0.11.0->qiskit) (4.4.1)\n",
            "Requirement already satisfied: chardet<3.1.0,>=3.0.2 in /usr/local/lib/python3.6/dist-packages (from requests>=2.19->qiskit-ibmq-provider==0.4.4->qiskit) (3.0.4)\n",
            "Requirement already satisfied: certifi>=2017.4.17 in /usr/local/lib/python3.6/dist-packages (from requests>=2.19->qiskit-ibmq-provider==0.4.4->qiskit) (2019.11.28)\n",
            "Requirement already satisfied: urllib3<1.25,>=1.21.1 in /usr/local/lib/python3.6/dist-packages (from requests>=2.19->qiskit-ibmq-provider==0.4.4->qiskit) (1.24.3)\n",
            "Requirement already satisfied: idna<2.9,>=2.5 in /usr/local/lib/python3.6/dist-packages (from requests>=2.19->qiskit-ibmq-provider==0.4.4->qiskit) (2.8)\n",
            "Collecting ntlm-auth>=1.0.2\n",
            "  Downloading https://files.pythonhosted.org/packages/50/09/5e397eb18685b14fd8b209e26cdb4fa6451c82c1bcc651fef05fa73e7b27/ntlm_auth-1.4.0-py2.py3-none-any.whl\n",
            "Collecting cryptography>=1.3\n",
            "\u001b[?25l  Downloading https://files.pythonhosted.org/packages/ca/9a/7cece52c46546e214e10811b36b2da52ce1ea7fa203203a629b8dfadad53/cryptography-2.8-cp34-abi3-manylinux2010_x86_64.whl (2.3MB)\n",
            "\u001b[K     |████████████████████████████████| 2.3MB 53.3MB/s \n",
            "\u001b[?25hRequirement already satisfied: pandas>=0.14 in /usr/local/lib/python3.6/dist-packages (from quandl->qiskit-aqua==0.6.1->qiskit) (0.25.3)\n",
            "Collecting ndg-httpsclient\n",
            "  Downloading https://files.pythonhosted.org/packages/fb/67/c2f508c00ed2a6911541494504b7cac16fe0b0473912568df65fd1801132/ndg_httpsclient-0.5.1-py3-none-any.whl\n",
            "Requirement already satisfied: python-dateutil in /usr/local/lib/python3.6/dist-packages (from quandl->qiskit-aqua==0.6.1->qiskit) (2.6.1)\n",
            "Collecting pyOpenSSL\n",
            "\u001b[?25l  Downloading https://files.pythonhosted.org/packages/9e/de/f8342b68fa9e981d348039954657bdf681b2ab93de27443be51865ffa310/pyOpenSSL-19.1.0-py2.py3-none-any.whl (53kB)\n",
            "\u001b[K     |████████████████████████████████| 61kB 7.4MB/s \n",
            "\u001b[?25hRequirement already satisfied: pyasn1 in /usr/local/lib/python3.6/dist-packages (from quandl->qiskit-aqua==0.6.1->qiskit) (0.4.8)\n",
            "Collecting more-itertools<=5.0.0\n",
            "\u001b[?25l  Downloading https://files.pythonhosted.org/packages/a4/a6/42f17d065bda1fac255db13afc94c93dbfb64393eae37c749b4cb0752fc7/more_itertools-5.0.0-py3-none-any.whl (52kB)\n",
            "\u001b[K     |████████████████████████████████| 61kB 7.8MB/s \n",
            "\u001b[?25hCollecting inflection>=0.3.1\n",
            "  Downloading https://files.pythonhosted.org/packages/d5/35/a6eb45b4e2356fe688b21570864d4aa0d0a880ce387defe9c589112077f8/inflection-0.3.1.tar.gz\n",
            "Collecting docloud>=1.0.375\n",
            "  Downloading https://files.pythonhosted.org/packages/89/1c/fcb7ea86ae5cb7137a22f00bcaa785de2d102bd4a2b16383ec4a877a835b/docloud-1.0.375.tar.gz\n",
            "Requirement already satisfied: joblib>=0.11 in /usr/local/lib/python3.6/dist-packages (from scikit-learn>=0.20.0->qiskit-aqua==0.6.1->qiskit) (0.14.1)\n",
            "Requirement already satisfied: cffi!=1.11.3,>=1.8 in /usr/local/lib/python3.6/dist-packages (from cryptography>=1.3->requests-ntlm>=1.1.0->qiskit-ibmq-provider==0.4.4->qiskit) (1.13.2)\n",
            "Requirement already satisfied: pytz>=2017.2 in /usr/local/lib/python3.6/dist-packages (from pandas>=0.14->quandl->qiskit-aqua==0.6.1->qiskit) (2018.9)\n",
            "Requirement already satisfied: pycparser in /usr/local/lib/python3.6/dist-packages (from cffi!=1.11.3,>=1.8->cryptography>=1.3->requests-ntlm>=1.1.0->qiskit-ibmq-provider==0.4.4->qiskit) (2.19)\n",
            "Building wheels for collected packages: qiskit, marshmallow-polyfield, docplex, dlx, inflection, docloud\n",
            "  Building wheel for qiskit (setup.py) ... \u001b[?25l\u001b[?25hdone\n",
            "  Created wheel for qiskit: filename=qiskit-0.14.0-cp36-none-any.whl size=1400 sha256=86f8d215adaffb70b450ac68e4c82dd2f8c8d982fb74d2d2984c9218500c3afd\n",
            "  Stored in directory: /root/.cache/pip/wheels/78/56/d2/194c8ea4c20e67c474027da76aa9df2ad5564218bc33073fbd\n",
            "  Building wheel for marshmallow-polyfield (setup.py) ... \u001b[?25l\u001b[?25hdone\n",
            "  Created wheel for marshmallow-polyfield: filename=marshmallow_polyfield-5.7-cp36-none-any.whl size=8580 sha256=6db7e8b7bf5e075e22f4e56fabec6f0aa653e41a4b4090e74d155753355781a7\n",
            "  Stored in directory: /root/.cache/pip/wheels/68/f5/09/1dcfa8613b095bb326caadfb4b111d7fc945875948b75f5c14\n",
            "  Building wheel for docplex (setup.py) ... \u001b[?25l\u001b[?25hdone\n",
            "  Created wheel for docplex: filename=docplex-2.12.182-cp36-none-any.whl size=627978 sha256=9975fbe50036a1202d06d0975d21379d413d716eb1fc2b6395250bf9a05b6daf\n",
            "  Stored in directory: /root/.cache/pip/wheels/9b/ef/71/204f676be3eae44c121c5b779077bd06f573d86cc6524aecc8\n",
            "  Building wheel for dlx (setup.py) ... \u001b[?25l\u001b[?25hdone\n",
            "  Created wheel for dlx: filename=dlx-1.0.4-cp36-none-any.whl size=5710 sha256=f82e3a485a885b36ad115281dcfc40516314730f39ce4bddf2c1e862fbc62ff7\n",
            "  Stored in directory: /root/.cache/pip/wheels/bb/ba/15/fdd0deb104df3254912998150ba9245668db06b00af5912d1a\n",
            "  Building wheel for inflection (setup.py) ... \u001b[?25l\u001b[?25hdone\n",
            "  Created wheel for inflection: filename=inflection-0.3.1-cp36-none-any.whl size=6076 sha256=c6afae8a553d158fe1ec1c64eeb239d6127042d6998bf93f2f81bec864928da6\n",
            "  Stored in directory: /root/.cache/pip/wheels/9f/5a/d3/6fc3bf6516d2a3eb7e18f9f28b472110b59325f3f258fe9211\n",
            "  Building wheel for docloud (setup.py) ... \u001b[?25l\u001b[?25hdone\n",
            "  Created wheel for docloud: filename=docloud-1.0.375-cp36-none-any.whl size=19479 sha256=31df23f64331f62d4ebdb8e243f324626d5a34e5fed988076e8c87aba6b720b2\n",
            "  Stored in directory: /root/.cache/pip/wheels/4e/24/19/9b0e57545d7543ecec35c5faff78c058bf0c2506369c8b1d31\n",
            "Successfully built qiskit marshmallow-polyfield docplex dlx inflection docloud\n",
            "\u001b[31mERROR: datascience 0.10.6 has requirement folium==0.2.1, but you'll have folium 0.8.3 which is incompatible.\u001b[0m\n",
            "Installing collected packages: sympy, ply, marshmallow, marshmallow-polyfield, qiskit-terra, qiskit-aer, nest-asyncio, ntlm-auth, cryptography, requests-ntlm, websockets, qiskit-ibmq-provider, qiskit-ignis, pyOpenSSL, ndg-httpsclient, more-itertools, inflection, quandl, docloud, docplex, dlx, pyscf, qiskit-aqua, qiskit\n",
            "  Found existing installation: sympy 1.1.1\n",
            "    Uninstalling sympy-1.1.1:\n",
            "      Successfully uninstalled sympy-1.1.1\n",
            "  Found existing installation: more-itertools 8.0.2\n",
            "    Uninstalling more-itertools-8.0.2:\n",
            "      Successfully uninstalled more-itertools-8.0.2\n",
            "Successfully installed cryptography-2.8 dlx-1.0.4 docloud-1.0.375 docplex-2.12.182 inflection-0.3.1 marshmallow-3.3.0 marshmallow-polyfield-5.7 more-itertools-5.0.0 ndg-httpsclient-0.5.1 nest-asyncio-1.2.1 ntlm-auth-1.4.0 ply-3.11 pyOpenSSL-19.1.0 pyscf-1.6.5 qiskit-0.14.0 qiskit-aer-0.3.4 qiskit-aqua-0.6.1 qiskit-ibmq-provider-0.4.4 qiskit-ignis-0.2.0 qiskit-terra-0.11.0 quandl-3.4.8 requests-ntlm-1.1.0 sympy-1.5 websockets-7.0\n"
          ],
          "name": "stdout"
        }
      ]
    },
    {
      "cell_type": "code",
      "metadata": {
        "id": "CsI5mGCwOZ8a",
        "colab_type": "code",
        "colab": {}
      },
      "source": [
        "from qiskit import *\n",
        "import numpy as np\n",
        "from qiskit.tools.visualization import plot_histogram\n",
        "from qiskit.tools.monitor import job_monitor\n",
        "import matplotlib.pyplot as plt\n",
        "IBMQ.save_account('83566f121e1ee97e533a98ccfb2798b144a8745872daaff2a9fa06eadab636365e78eb38c76bf7984a1609de6c0c8e5afa17dc9a647985deb2f5e4b9d1f91009')\n",
        "%matplotlib inline"
      ],
      "execution_count": 0,
      "outputs": []
    },
    {
      "cell_type": "markdown",
      "metadata": {
        "id": "AaQ8gYiFeVZJ",
        "colab_type": "text"
      },
      "source": [
        "# **INTRODUCCION**\n",
        "\n",
        "# Entrelazamiento cuantico\n",
        "\n",
        "Cuando una particula tiene afectacion en la otra independientemente de la \n",
        "\n",
        "distancia\n",
        "![Entrelazamiento cuantico](https://drive.google.com/uc?id=1DVcVOcX9pX0QrmehVG5lC3L_tP6-NRkz)\n",
        "\n",
        "# Superpocicion de estados\n",
        "\n",
        "Cuando 1 sola particula o mas puede estar en 2 estados en el mismo segmento de tiempo\n",
        "\n",
        "![Superposicion cuantica](https://drive.google.com/uc?id=1IQXYWsdaSyeyK2r8pfvaZ0rzv1FC0iJ-)\n",
        "\n",
        "Aqui es donde encontramos las desigualdades de Bell\n",
        "\n",
        "![Desigualdades de Bell](https://drive.google.com/uc?id=1Og731gLrvK6qW3XWyhaH6VhaNqnt0bou)\n",
        "\n",
        "Esfera de Bloch\n",
        "\n",
        "![Esfera de Bloch](https://drive.google.com/uc?id=12lvevtpotg8K73o1O8MWUMp7QWdxhuqH)\n",
        "\n",
        "![Esfera de Bloch 2](https://drive.google.com/uc?id=1lxCtifBxdydLHexFrQvdHBt_o1361Mcz)\n",
        "\n",
        "# Teleportacion cuantica\n",
        "\n",
        "Enviar informacion a distancia por un canal **clasico** sin que dos particulas interactuen\n",
        "\n",
        "![Teleportacion cuantica](https://drive.google.com/uc?id=14JTEfZ2FFRllsQFkCcwiYZrXBAdNsgw7)\n",
        "\n",
        "# Circuitos cuanticos\n",
        "Esas transformaciones de estados se realizan a traves de circuitos cuanticos\n",
        "\n",
        "![Circuitos cuanticos](https://drive.google.com/uc?id=175loASHXMIgsHApCQ7Tvg7iLl2VLzen1)\n",
        "\n",
        "#Informacion sobre circuitos\n",
        "![Informacion de circuitos](https://drive.google.com/uc?id=19J9lXzT1gYekDn0mnPEtbiJRyq3bpLwd)\n",
        "\n"
      ]
    },
    {
      "cell_type": "markdown",
      "metadata": {
        "id": "SYiPSejK4ec-",
        "colab_type": "text"
      },
      "source": [
        "# **Circuitos Cuanticos**\n",
        "\n",
        "![Quantum Gates]('https://en.wikipedia.org/wiki/Quantum_logic_gate#/media/File:Quantum_Logic_Gates.png')"
      ]
    },
    {
      "cell_type": "code",
      "metadata": {
        "id": "5wmvG4Bn4j1v",
        "colab_type": "code",
        "outputId": "64ac1320-dfbb-4ad8-85eb-8c81f3285c64",
        "colab": {
          "base_uri": "https://localhost:8080/",
          "height": 34
        }
      },
      "source": [
        "circuit  = QuantumCircuit(3, 3)\n",
        "circuit.x(0)\n",
        "\n",
        "circuit.barrier()\n",
        "\n",
        "circuit.h(0)\n",
        "circuit.cx(1,2)\n",
        "\n",
        "circuit.barrier()\n",
        "\n",
        "circuit.cx(0,1)\n",
        "circuit.h(0)\n",
        "\n",
        "circuit.measure([0,1], [0,1])\n",
        "\n",
        "circuit.barrier()\n",
        "\n",
        "circuit.cx(1, 2)\n",
        "circuit.cz(0, 2)\n",
        "\n",
        "circuit.measure([2], [2])"
      ],
      "execution_count": 4,
      "outputs": [
        {
          "output_type": "execute_result",
          "data": {
            "text/plain": [
              "<qiskit.circuit.instructionset.InstructionSet at 0x7f7b733bc748>"
            ]
          },
          "metadata": {
            "tags": []
          },
          "execution_count": 4
        }
      ]
    },
    {
      "cell_type": "code",
      "metadata": {
        "id": "iEiusxvt5jfR",
        "colab_type": "code",
        "outputId": "18ec676d-c735-4869-d129-93753ec9eede",
        "colab": {
          "base_uri": "https://localhost:8080/",
          "height": 231
        }
      },
      "source": [
        "circuit.draw(output='mpl')"
      ],
      "execution_count": 5,
      "outputs": [
        {
          "output_type": "execute_result",
          "data": {
            "image/png": "[encoded data removed]",
            "text/plain": [
              "<Figure size 818.72x264.88 with 1 Axes>"
            ]
          },
          "metadata": {
            "tags": []
          },
          "execution_count": 5
        }
      ]
    },
    {
      "cell_type": "code",
      "metadata": {
        "id": "yUrqbHSUOEyx",
        "colab_type": "code",
        "colab": {}
      },
      "source": [
        "simulator = Aer.get_backend('qasm_simulator')\n",
        "hist = execute(circuit, simulator, shots=1024)\n",
        "result = hist.result().get_counts()"
      ],
      "execution_count": 0,
      "outputs": []
    },
    {
      "cell_type": "code",
      "metadata": {
        "id": "pF1Wbk3b9CvO",
        "colab_type": "code",
        "outputId": "618c73ed-e0f0-4082-e4e7-aac6c56f0730",
        "colab": {
          "base_uri": "https://localhost:8080/",
          "height": 340
        }
      },
      "source": [
        "plot_histogram(result)"
      ],
      "execution_count": 7,
      "outputs": [
        {
          "output_type": "execute_result",
          "data": {
            "image/png": "[encoded data removed]",
            "text/plain": [
              "<Figure size 504x360 with 1 Axes>"
            ]
          },
          "metadata": {
            "tags": []
          },
          "execution_count": 7
        }
      ]
    },
    {
      "cell_type": "markdown",
      "metadata": {
        "id": "iEGnu_WPTrIm",
        "colab_type": "text"
      },
      "source": [
        "# **IBM Q Experience**"
      ]
    },
    {
      "cell_type": "code",
      "metadata": {
        "id": "R-exm4QZTvRN",
        "colab_type": "code",
        "outputId": "b78e98c7-26e4-4e74-b48c-a280df9e61d4",
        "colab": {
          "base_uri": "https://localhost:8080/",
          "height": 72
        }
      },
      "source": [
        "IBMQ.load_account()\n",
        "provider = IBMQ.get_provider(hub='ibm-q')\n",
        "device = provider.get_backend('ibmqx2')"
      ],
      "execution_count": 8,
      "outputs": [
        {
          "output_type": "stream",
          "text": [
            "/usr/local/lib/python3.6/dist-packages/qiskit/providers/models/backendconfiguration.py:337: UserWarning: `dt` and `dtm` now have units of seconds(s) rather than nanoseconds(ns).\n",
            "  warnings.warn('`dt` and `dtm` now have units of seconds(s) rather '\n"
          ],
          "name": "stderr"
        }
      ]
    },
    {
      "cell_type": "code",
      "metadata": {
        "id": "ECuK4Oz6U558",
        "colab_type": "code",
        "outputId": "388a47db-8ade-4314-b680-8c87e6dbb433",
        "colab": {
          "base_uri": "https://localhost:8080/",
          "height": 52
        }
      },
      "source": [
        "job = execute(circuit, backend=device, shots=1024)\n",
        "print(job.job_id())\n",
        "job_monitor(job)"
      ],
      "execution_count": 9,
      "outputs": [
        {
          "output_type": "stream",
          "text": [
            "5df812101b18c00011a51dff\n",
            "Job Status: job has successfully run\n"
          ],
          "name": "stdout"
        }
      ]
    },
    {
      "cell_type": "code",
      "metadata": {
        "id": "hFdOX8i-XQ4Y",
        "colab_type": "code",
        "outputId": "19d7ee3b-907d-4c9a-d99b-7499e34f7e27",
        "colab": {
          "base_uri": "https://localhost:8080/",
          "height": 340
        }
      },
      "source": [
        "job_result = job.result()\n",
        "plot_histogram(job_result.get_counts(circuit))"
      ],
      "execution_count": 11,
      "outputs": [
        {
          "output_type": "execute_result",
          "data": {
            "image/png": "[encoded data removed]",
            "text/plain": [
              "<Figure size 504x360 with 1 Axes>"
            ]
          },
          "metadata": {
            "tags": []
          },
          "execution_count": 11
        }
      ]
    },
    {
      "cell_type": "markdown",
      "metadata": {
        "id": "KSd6Nro1F0Un",
        "colab_type": "text"
      },
      "source": [
        "# **Conversiones**"
      ]
    },
    {
      "cell_type": "code",
      "metadata": {
        "id": "pRQLhvCMF4WD",
        "colab_type": "code",
        "outputId": "fe00e983-687b-4df7-c55b-8d6ec9c411e6",
        "colab": {
          "base_uri": "https://localhost:8080/",
          "height": 34
        }
      },
      "source": [
        "analizer_states = job_result.get_counts(circuit)\n",
        "print(analizer_states)"
      ],
      "execution_count": 12,
      "outputs": [
        {
          "output_type": "stream",
          "text": [
            "{'110': 207, '011': 13, '101': 27, '000': 221, '010': 11, '111': 305, '001': 215, '100': 25}\n"
          ],
          "name": "stdout"
        }
      ]
    },
    {
      "cell_type": "code",
      "metadata": {
        "id": "IEt7V1inGLzC",
        "colab_type": "code",
        "outputId": "a821f8e0-ed60-49e2-f194-3c207a663b3d",
        "colab": {
          "base_uri": "https://localhost:8080/",
          "height": 156
        }
      },
      "source": [
        "#Conversion de los valores del diccionario a valores a float\n",
        "a = analizer_states\n",
        "a = {k: v / total for total in (sum(a.values()),) for k, v in a.items()}\n",
        "analizer_states = a\n",
        "\n",
        "analizer_states"
      ],
      "execution_count": 13,
      "outputs": [
        {
          "output_type": "execute_result",
          "data": {
            "text/plain": [
              "{'000': 0.2158203125,\n",
              " '001': 0.2099609375,\n",
              " '010': 0.0107421875,\n",
              " '011': 0.0126953125,\n",
              " '100': 0.0244140625,\n",
              " '101': 0.0263671875,\n",
              " '110': 0.2021484375,\n",
              " '111': 0.2978515625}"
            ]
          },
          "metadata": {
            "tags": []
          },
          "execution_count": 13
        }
      ]
    },
    {
      "cell_type": "code",
      "metadata": {
        "id": "PXOMLCOrRxnu",
        "colab_type": "code",
        "outputId": "70131644-e830-4156-e233-65ab4dcac131",
        "colab": {
          "base_uri": "https://localhost:8080/",
          "height": 312
        }
      },
      "source": [
        "#Convertir a matriz\n",
        "matrix_transition = np.array([list(analizer_states.values()) for item in analizer_states.values()])\n",
        "\n",
        "#Extrayendo los estados\n",
        "states = list(analizer_states.keys())\n",
        "\n",
        "#Convertir a matrices de tipo 1D y 2D\n",
        "matrix_transition = np.matrix(matrix_transition)\n",
        "\n",
        "#Llenar matriz de estados\n",
        "\n",
        "#Convirtiendo a float\n",
        "matrix_transition = matrix_transition.astype(float)\n",
        "\n",
        "print(matrix_transition)\n",
        "print(states)"
      ],
      "execution_count": 15,
      "outputs": [
        {
          "output_type": "stream",
          "text": [
            "[[0.20214844 0.01269531 0.02636719 0.21582031 0.01074219 0.29785156\n",
            "  0.20996094 0.02441406]\n",
            " [0.20214844 0.01269531 0.02636719 0.21582031 0.01074219 0.29785156\n",
            "  0.20996094 0.02441406]\n",
            " [0.20214844 0.01269531 0.02636719 0.21582031 0.01074219 0.29785156\n",
            "  0.20996094 0.02441406]\n",
            " [0.20214844 0.01269531 0.02636719 0.21582031 0.01074219 0.29785156\n",
            "  0.20996094 0.02441406]\n",
            " [0.20214844 0.01269531 0.02636719 0.21582031 0.01074219 0.29785156\n",
            "  0.20996094 0.02441406]\n",
            " [0.20214844 0.01269531 0.02636719 0.21582031 0.01074219 0.29785156\n",
            "  0.20996094 0.02441406]\n",
            " [0.20214844 0.01269531 0.02636719 0.21582031 0.01074219 0.29785156\n",
            "  0.20996094 0.02441406]\n",
            " [0.20214844 0.01269531 0.02636719 0.21582031 0.01074219 0.29785156\n",
            "  0.20996094 0.02441406]]\n",
            "['110', '011', '101', '000', '010', '111', '001', '100']\n"
          ],
          "name": "stdout"
        }
      ]
    },
    {
      "cell_type": "code",
      "metadata": {
        "id": "7xI6eQ34MF5D",
        "colab_type": "code",
        "outputId": "164d7c59-3e19-47ca-8870-97ff508a171e",
        "colab": {
          "base_uri": "https://localhost:8080/",
          "height": 421
        }
      },
      "source": [
        "poisson = np.random.exponential(matrix_transition)\n",
        "print(poisson)\n",
        "print(np.mean(poisson))\n",
        "plt.hist(poisson)\n",
        "plt.show()"
      ],
      "execution_count": 0,
      "outputs": [
        {
          "output_type": "stream",
          "text": [
            "[[0 0 0 0 0 0 0 0]\n",
            " [1 0 0 0 0 0 0 0]\n",
            " [1 0 0 0 0 0 0 0]\n",
            " [1 0 0 0 0 0 0 0]\n",
            " [0 0 0 0 0 0 0 2]\n",
            " [0 0 0 0 0 0 0 0]\n",
            " [1 0 0 0 0 0 0 0]\n",
            " [0 0 0 0 1 0 0 2]]\n",
            "0.140625\n"
          ],
          "name": "stdout"
        },
        {
          "output_type": "display_data",
          "data": {
            "image/png": "[encoded data removed]",
            "text/plain": [
              "<Figure size 432x288 with 1 Axes>"
            ]
          },
          "metadata": {
            "tags": []
          }
        }
      ]
    },
    {
      "cell_type": "markdown",
      "metadata": {
        "id": "EOzKOBj-OIqz",
        "colab_type": "text"
      },
      "source": [
        "# **Cadenas de Markov**"
      ]
    },
    {
      "cell_type": "code",
      "metadata": {
        "id": "_sXvuWkbOQQj",
        "colab_type": "code",
        "colab": {}
      },
      "source": [
        "#Generador de estados\n",
        "class MarkovChainStates(object):\n",
        "  def __init__(self, transition_matrix):\n",
        "    self.transition_matrix = transition_matrix\n",
        "    self.states = list(transition_matrix.keys())\n",
        "\n",
        "  def next_state(self, current_state):\n",
        "    return np.random.choice(self.states, p=[self.transition_matrix[current_state][next_state] for next_state in self.states])\n",
        "  \n",
        "  def generate_states(self, current_state, no):\n",
        "    future_states = []\n",
        "    for i in range(no):\n",
        "      next_state = self.next_state(current_state)\n",
        "      future_states.append(next_state)\n",
        "      current_state = next_state\n",
        "    return future_states"
      ],
      "execution_count": 0,
      "outputs": []
    },
    {
      "cell_type": "code",
      "metadata": {
        "id": "ryg5wH8icYL5",
        "colab_type": "code",
        "colab": {}
      },
      "source": [
        "#Generador de probabilidades\n",
        "class MarkovChainProbabilities(object):\n",
        "  def __init__(self, transition_matrix, states, iterations):\n",
        "    self.transition_matrix = transition_matrix\n",
        "    self.states = states\n",
        "    self.iterations = iterations\n",
        "  \n",
        "  def generate_probabilities(self, transition_matrix, states, iterations):\n",
        "    states = self.states \n",
        "    for i in range(0, self.iterations):\n",
        "      states = states * self.transition_matrix\n",
        "      print(states)"
      ],
      "execution_count": 0,
      "outputs": []
    },
    {
      "cell_type": "code",
      "metadata": {
        "id": "aI8DFT9NO7em",
        "colab_type": "code",
        "colab": {}
      },
      "source": [
        "#Analisis de Markov\n",
        "mc = MarkovChainProbabilities(transition_matrix=np.matrix([[0.20703125, 0.01171875, 0.01269531 ,0.2109375, 0.2421875,  0.01660156, 0.00976562, 0.2890625],\n",
        "                                                          [0.01171875, 0.2109375,  0.01269531, 0.2421875,  0.01660156, 0.00976562, 0.2890625, 0.20703125],\n",
        "                                                          [0.2109375,  0.01269531, 0.2421875,  0.01660156, 0.00976562, 0.2890625, 0.20703125, 0.01171875],\n",
        "                                                          [0.01269531, 0.2421875,  0.01660156, 0.00976562, 0.2890625, 0.20703125, 0.01171875, 0.2109375],\n",
        "                                                          [0.2421875,  0.01660156, 0.00976562, 0.2890625, 0.20703125, 0.01171875, 0.2109375,  0.01269531],\n",
        "                                                          [0.01660156, 0.00976562, 0.2890625, 0.20703125, 0.01171875, 0.2109375,  0.01269531, 0.2421875],\n",
        "                                                          [0.00976562, 0.2890625, 0.20703125, 0.01171875, 0.2109375,  0.01269531, 0.2421875,  0.01660156],\n",
        "                                                          [0.2890625, 0.20703125, 0.01171875, 0.2109375,  0.01269531, 0.2421875,  0.00976562, 0.01660156]]), states=np.matrix([[0,0,1,0,0,0,0,0]]), iterations = 50)\n",
        "mc.generate_probabilities(transition_matrix=matrix_transition, states=states, iterations = 50)"
      ],
      "execution_count": 0,
      "outputs": []
    },
    {
      "cell_type": "code",
      "metadata": {
        "id": "j9HmFGm9BPlP",
        "colab_type": "code",
        "colab": {}
      },
      "source": [
        "#Generador de estados\n",
        "mc2 = Markov\n"
      ],
      "execution_count": 0,
      "outputs": []
    }
  ]
}