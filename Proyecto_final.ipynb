{
  "nbformat": 4,
  "nbformat_minor": 0,
  "metadata": {
    "colab": {
      "name": "Proyecto_final",
      "provenance": [],
      "collapsed_sections": []
    },
    "kernelspec": {
      "name": "python3",
      "display_name": "Python 3"
    }
  },
  "cells": [
    {
      "cell_type": "markdown",
      "metadata": {
        "id": "BRunmvwaOSy7",
        "colab_type": "text"
      },
      "source": [
        "# **Encabezado**"
      ]
    },
    {
      "cell_type": "code",
      "metadata": {
        "id": "j-gVen0sN_th",
        "colab_type": "code",
        "outputId": "77aca2ef-96c5-4541-ca8c-fd6e2b846aca",
        "colab": {
          "base_uri": "https://localhost:8080/",
          "height": 124
        }
      },
      "source": [
        "from google.colab import drive\n",
        "drive.mount('/content/drive')"
      ],
      "execution_count": 1,
      "outputs": [
        {
          "output_type": "stream",
          "text": [
            "Go to this URL in a browser: https://accounts.google.com/o/oauth2/auth?client_id=947318989803-6bn6qk8qdgf4n4g3pfee6491hc0brc4i.apps.googleusercontent.com&redirect_uri=urn%3aietf%3awg%3aoauth%3a2.0%3aoob&response_type=code&scope=email%20https%3a%2f%2fwww.googleapis.com%2fauth%2fdocs.test%20https%3a%2f%2fwww.googleapis.com%2fauth%2fdrive%20https%3a%2f%2fwww.googleapis.com%2fauth%2fdrive.photos.readonly%20https%3a%2f%2fwww.googleapis.com%2fauth%2fpeopleapi.readonly\n",
            "\n",
            "Enter your authorization code:\n",
            "··········\n",
            "Mounted at /content/drive\n"
          ],
          "name": "stdout"
        }
      ]
    },
    {
      "cell_type": "code",
      "metadata": {
        "id": "8tjRpryUOPgB",
        "colab_type": "code",
        "colab": {}
      },
      "source": [
        "pip install qiskit"
      ],
      "execution_count": 0,
      "outputs": []
    },
    {
      "cell_type": "code",
      "metadata": {
        "id": "CsI5mGCwOZ8a",
        "colab_type": "code",
        "colab": {
          "base_uri": "https://localhost:8080/",
          "height": 34
        },
        "outputId": "e83284b5-722a-433a-b49f-ee5c270a9afe"
      },
      "source": [
        "IBMQ.save_account('83566f121e1ee97e533a98ccfb2798b144a8745872daaff2a9fa06eadab636365e78eb38c76bf7984a1609de6c0c8e5afa17dc9a647985deb2f5e4b9d1f91009')\n",
        "from qiskit import *\n",
        "import numpy as np\n",
        "from qiskit.tools.visualization import plot_histogram\n",
        "from qiskit.tools.monitor import job_monitor\n",
        "%matplotlib inline"
      ],
      "execution_count": 63,
      "outputs": [
        {
          "output_type": "stream",
          "text": [
            "Credentials already present. Set overwrite=True to overwrite.\n"
          ],
          "name": "stderr"
        }
      ]
    },
    {
      "cell_type": "markdown",
      "metadata": {
        "id": "AaQ8gYiFeVZJ",
        "colab_type": "text"
      },
      "source": [
        "# **Introduccion**"
      ]
    },
    {
      "cell_type": "code",
      "metadata": {
        "id": "ytEU6_wkeY2k",
        "colab_type": "code",
        "colab": {}
      },
      "source": [
        ""
      ],
      "execution_count": 0,
      "outputs": []
    },
    {
      "cell_type": "markdown",
      "metadata": {
        "id": "SYiPSejK4ec-",
        "colab_type": "text"
      },
      "source": [
        "# **Circuitos Cuanticos**\n",
        "\n",
        "![Quantum Gates](https://en.wikipedia.org/wiki/Quantum_logic_gate#/media/File:Quantum_Logic_Gates.png)\n"
      ]
    },
    {
      "cell_type": "code",
      "metadata": {
        "id": "5wmvG4Bn4j1v",
        "colab_type": "code",
        "colab": {
          "base_uri": "https://localhost:8080/",
          "height": 34
        },
        "outputId": "9f012bbc-e4df-4d15-b52a-107b8ffdb07e"
      },
      "source": [
        "circuit  = QuantumCircuit(3, 3)\n",
        "circuit.x(0)\n",
        "\n",
        "circuit.barrier()\n",
        "\n",
        "circuit.h(0)\n",
        "circuit.cx(1,2)\n",
        "\n",
        "circuit.barrier()\n",
        "\n",
        "circuit.cx(0,1)\n",
        "circuit.h(0)\n",
        "\n",
        "circuit.measure([0,1], [0,1])\n",
        "\n",
        "circuit.barrier()\n",
        "\n",
        "circuit.cx(1, 2)\n",
        "circuit.cz(0, 2)\n",
        "\n",
        "circuit.measure([2], [2])"
      ],
      "execution_count": 66,
      "outputs": [
        {
          "output_type": "execute_result",
          "data": {
            "text/plain": [
              "<qiskit.circuit.instructionset.InstructionSet at 0x7f0704a699e8>"
            ]
          },
          "metadata": {
            "tags": []
          },
          "execution_count": 66
        }
      ]
    },
    {
      "cell_type": "code",
      "metadata": {
        "id": "iEiusxvt5jfR",
        "colab_type": "code",
        "colab": {
          "base_uri": "https://localhost:8080/",
          "height": 231
        },
        "outputId": "fddae9b0-fc44-485f-f1f1-5749f5bea850"
      },
      "source": [
        "circuit.draw(output='mpl')"
      ],
      "execution_count": 67,
      "outputs": [
        {
          "output_type": "execute_result",
          "data": {
            "image/png": "[encoded data removed]",
            "text/plain": [
              "<Figure size 818.72x264.88 with 1 Axes>"
            ]
          },
          "metadata": {
            "tags": []
          },
          "execution_count": 67
        }
      ]
    },
    {
      "cell_type": "code",
      "metadata": {
        "id": "yUrqbHSUOEyx",
        "colab_type": "code",
        "colab": {}
      },
      "source": [
        "simulator = Aer.get_backend('qasm_simulator')\n",
        "hist = execute(circuit, simulator, shots=1024)\n",
        "result = hist.result().get_counts()"
      ],
      "execution_count": 0,
      "outputs": []
    },
    {
      "cell_type": "code",
      "metadata": {
        "id": "pF1Wbk3b9CvO",
        "colab_type": "code",
        "colab": {
          "base_uri": "https://localhost:8080/",
          "height": 340
        },
        "outputId": "4172667d-8ab5-49ab-ff6e-7decc1513dcc"
      },
      "source": [
        "plot_histogram(result)"
      ],
      "execution_count": 69,
      "outputs": [
        {
          "output_type": "execute_result",
          "data": {
            "image/png": "[encoded data removed]",
            "text/plain": [
              "<Figure size 504x360 with 1 Axes>"
            ]
          },
          "metadata": {
            "tags": []
          },
          "execution_count": 69
        }
      ]
    },
    {
      "cell_type": "markdown",
      "metadata": {
        "id": "iEGnu_WPTrIm",
        "colab_type": "text"
      },
      "source": [
        "# **IBM Q Experience**"
      ]
    },
    {
      "cell_type": "code",
      "metadata": {
        "id": "R-exm4QZTvRN",
        "colab_type": "code",
        "colab": {
          "base_uri": "https://localhost:8080/",
          "height": 34
        },
        "outputId": "58dd6e93-d111-49b5-c40a-d36113dd9140"
      },
      "source": [
        "IBMQ.load_account()\n",
        "provider = IBMQ.get_provider(hub='ibm-q')\n",
        "device = provider.get_backend('ibmqx2')"
      ],
      "execution_count": 62,
      "outputs": [
        {
          "output_type": "stream",
          "text": [
            "Credentials are already in use. The existing account in the session will be replaced.\n"
          ],
          "name": "stderr"
        }
      ]
    },
    {
      "cell_type": "code",
      "metadata": {
        "id": "ECuK4Oz6U558",
        "colab_type": "code",
        "colab": {
          "base_uri": "https://localhost:8080/",
          "height": 52
        },
        "outputId": "758b2600-c009-4a58-e8d3-86da8f85d8e6"
      },
      "source": [
        "job = execute(circuit, backend=device, shots=1024)\n",
        "print(job.job_id())\n",
        "job_monitor(job)"
      ],
      "execution_count": 70,
      "outputs": [
        {
          "output_type": "stream",
          "text": [
            "5df69ebb1f82de0011d74bbc\n",
            "Job Status: job has successfully run\n"
          ],
          "name": "stdout"
        }
      ]
    },
    {
      "cell_type": "code",
      "metadata": {
        "id": "hFdOX8i-XQ4Y",
        "colab_type": "code",
        "colab": {
          "base_uri": "https://localhost:8080/",
          "height": 340
        },
        "outputId": "162be0b6-5f22-4166-839d-03cbcf78cee6"
      },
      "source": [
        "job_result = job.result()\n",
        "plot_histogram(job_result.get_counts(circuit))"
      ],
      "execution_count": 71,
      "outputs": [
        {
          "output_type": "execute_result",
          "data": {
            "image/png": "[encoded data removed]",
            "text/plain": [
              "<Figure size 504x360 with 1 Axes>"
            ]
          },
          "metadata": {
            "tags": []
          },
          "execution_count": 71
        }
      ]
    },
    {
      "cell_type": "markdown",
      "metadata": {
        "id": "KSd6Nro1F0Un",
        "colab_type": "text"
      },
      "source": [
        "# **Conversiones**"
      ]
    },
    {
      "cell_type": "code",
      "metadata": {
        "id": "pRQLhvCMF4WD",
        "colab_type": "code",
        "colab": {
          "base_uri": "https://localhost:8080/",
          "height": 34
        },
        "outputId": "5709a0eb-63fd-4f07-b77f-73d2aa7642f4"
      },
      "source": [
        "analizer_states = job_result.get_counts(circuit)\n",
        "print(analizer_states)"
      ],
      "execution_count": 121,
      "outputs": [
        {
          "output_type": "stream",
          "text": [
            "{'001': 212, '010': 12, '110': 216, '100': 13, '000': 248, '101': 17, '011': 10, '111': 296}\n"
          ],
          "name": "stdout"
        }
      ]
    },
    {
      "cell_type": "code",
      "metadata": {
        "id": "IEt7V1inGLzC",
        "colab_type": "code",
        "colab": {
          "base_uri": "https://localhost:8080/",
          "height": 156
        },
        "outputId": "c0da1128-63ec-4651-dc53-19408003fdcb"
      },
      "source": [
        "#Conversion de los valores del diccionario a valores a float\n",
        "a = analizer_states\n",
        "a = {k: v / total for total in (sum(a.values()),) for k, v in a.items()}\n",
        "analizer_states = a\n",
        "\n",
        "analizer_states"
      ],
      "execution_count": 146,
      "outputs": [
        {
          "output_type": "execute_result",
          "data": {
            "text/plain": [
              "{'000': 0.2421875,\n",
              " '001': 0.20703125,\n",
              " '010': 0.01171875,\n",
              " '011': 0.009765625,\n",
              " '100': 0.0126953125,\n",
              " '101': 0.0166015625,\n",
              " '110': 0.2109375,\n",
              " '111': 0.2890625}"
            ]
          },
          "metadata": {
            "tags": []
          },
          "execution_count": 146
        }
      ]
    },
    {
      "cell_type": "code",
      "metadata": {
        "id": "PXOMLCOrRxnu",
        "colab_type": "code",
        "colab": {
          "base_uri": "https://localhost:8080/",
          "height": 312
        },
        "outputId": "ab36e9bc-ba0b-4339-b3d8-480793f061bc"
      },
      "source": [
        "#Convertir a matriz\n",
        "matrix_transition = np.array([list(analizer_states.values()) for item in analizer_states.values()])\n",
        "\n",
        "#Extrayendo los estados\n",
        "states = list(analizer_states.keys())\n",
        "\n",
        "#Convertir a matrices de tipo 1D y 2D\n",
        "matrix_transition = np.matrix(matrix__transition)\n",
        "states = np.matrix(states)\n",
        "\n",
        "#Convirtiendo a float\n",
        "matrix_transition = matrix_transition.astype(float)\n",
        "\n",
        "print(matrix_transition)\n",
        "print(states)"
      ],
      "execution_count": 210,
      "outputs": [
        {
          "output_type": "stream",
          "text": [
            "[[0.20703125 0.01171875 0.2109375  0.01269531 0.2421875  0.01660156\n",
            "  0.00976562 0.2890625 ]\n",
            " [0.20703125 0.01171875 0.2109375  0.01269531 0.2421875  0.01660156\n",
            "  0.00976562 0.2890625 ]\n",
            " [0.20703125 0.01171875 0.2109375  0.01269531 0.2421875  0.01660156\n",
            "  0.00976562 0.2890625 ]\n",
            " [0.20703125 0.01171875 0.2109375  0.01269531 0.2421875  0.01660156\n",
            "  0.00976562 0.2890625 ]\n",
            " [0.20703125 0.01171875 0.2109375  0.01269531 0.2421875  0.01660156\n",
            "  0.00976562 0.2890625 ]\n",
            " [0.20703125 0.01171875 0.2109375  0.01269531 0.2421875  0.01660156\n",
            "  0.00976562 0.2890625 ]\n",
            " [0.20703125 0.01171875 0.2109375  0.01269531 0.2421875  0.01660156\n",
            "  0.00976562 0.2890625 ]\n",
            " [0.20703125 0.01171875 0.2109375  0.01269531 0.2421875  0.01660156\n",
            "  0.00976562 0.2890625 ]]\n",
            "[['001' '010' '110' '100' '000' '101' '011' '111']]\n"
          ],
          "name": "stdout"
        }
      ]
    },
    {
      "cell_type": "markdown",
      "metadata": {
        "id": "EOzKOBj-OIqz",
        "colab_type": "text"
      },
      "source": [
        "# **Cadenas de Markov**"
      ]
    },
    {
      "cell_type": "code",
      "metadata": {
        "id": "_sXvuWkbOQQj",
        "colab_type": "code",
        "colab": {}
      },
      "source": [
        "#Generador de estados\n",
        "class MarkovChainStates(object):\n",
        "  def __init__(self, transition_matrix):\n",
        "    self.transition_matrix = transition_matrix\n",
        "    self.states = list(transition_matrix.keys())\n",
        "\n",
        "  def next_state(self, current_state):\n",
        "    return np.random.choice(self.states, p=[self.transition_matrix[current_state][next_state] for next_state in self.states])\n",
        "  \n",
        "  def generate_states(self, current_state, no):\n",
        "    future_states = []\n",
        "    for i in range(no):\n",
        "      next_state = self.next_state(current_state)\n",
        "      future_states.append(next_state)\n",
        "      current_state = next_state\n",
        "    return future_states"
      ],
      "execution_count": 0,
      "outputs": []
    },
    {
      "cell_type": "code",
      "metadata": {
        "id": "ryg5wH8icYL5",
        "colab_type": "code",
        "colab": {}
      },
      "source": [
        "#Generador de probabilidades\n",
        "class MarkovChainProbabilities(object):\n",
        "  def __init__(self, transition_matrix, states, iterations):\n",
        "    self.transition_matrix = transition_matrix\n",
        "    self.states = states\n",
        "    self.iterations = iterations\n",
        "  \n",
        "  def generate_probabilities(self):\n",
        "    for i in range(0, self.iterations):\n",
        "      T = self.states * self.transition_matrix\n",
        "      print(T)"
      ],
      "execution_count": 0,
      "outputs": []
    },
    {
      "cell_type": "code",
      "metadata": {
        "id": "aI8DFT9NO7em",
        "colab_type": "code",
        "colab": {
          "base_uri": "https://localhost:8080/",
          "height": 219
        },
        "outputId": "ff36a511-979f-4a25-b035-5c4134b827b7"
      },
      "source": [
        "#Analisis de Markov\n",
        "mc = MarkovChainProbabilities(transition_matrix=matrix_transition, states=states, iterations = 50)\n",
        "mc.generate_probabilities(transition_matrix=matrix_transition, states=states, iterations = 50)\n",
        "#mc = MarkovChain(transition_matrix = matrix_transition)   \n",
        "#mc.generate_states(current_state='000', no=10)"
      ],
      "execution_count": 213,
      "outputs": [
        {
          "output_type": "error",
          "ename": "TypeError",
          "evalue": "ignored",
          "traceback": [
            "\u001b[0;31m---------------------------------------------------------------------------\u001b[0m",
            "\u001b[0;31mTypeError\u001b[0m                                 Traceback (most recent call last)",
            "\u001b[0;32m<ipython-input-213-5b3a5e002159>\u001b[0m in \u001b[0;36m<module>\u001b[0;34m()\u001b[0m\n\u001b[1;32m      1\u001b[0m \u001b[0mmc\u001b[0m \u001b[0;34m=\u001b[0m \u001b[0mMarkovChainProbabilities\u001b[0m\u001b[0;34m(\u001b[0m\u001b[0mtransition_matrix\u001b[0m\u001b[0;34m=\u001b[0m\u001b[0mmatrix_transition\u001b[0m\u001b[0;34m,\u001b[0m \u001b[0mstates\u001b[0m\u001b[0;34m=\u001b[0m\u001b[0mstates\u001b[0m\u001b[0;34m,\u001b[0m \u001b[0miterations\u001b[0m \u001b[0;34m=\u001b[0m \u001b[0;36m50\u001b[0m\u001b[0;34m)\u001b[0m\u001b[0;34m\u001b[0m\u001b[0;34m\u001b[0m\u001b[0m\n\u001b[0;32m----> 2\u001b[0;31m \u001b[0mmc\u001b[0m\u001b[0;34m.\u001b[0m\u001b[0mgenerate_probabilities\u001b[0m\u001b[0;34m(\u001b[0m\u001b[0mtransition_matrix\u001b[0m\u001b[0;34m=\u001b[0m\u001b[0mmatrix_transition\u001b[0m\u001b[0;34m,\u001b[0m \u001b[0mstates\u001b[0m\u001b[0;34m=\u001b[0m\u001b[0mstates\u001b[0m\u001b[0;34m,\u001b[0m \u001b[0miterations\u001b[0m \u001b[0;34m=\u001b[0m \u001b[0;36m50\u001b[0m\u001b[0;34m)\u001b[0m\u001b[0;34m\u001b[0m\u001b[0;34m\u001b[0m\u001b[0m\n\u001b[0m\u001b[1;32m      3\u001b[0m \u001b[0;31m#mc = MarkovChain(transition_matrix = matrix_transition)\u001b[0m\u001b[0;34m\u001b[0m\u001b[0;34m\u001b[0m\u001b[0;34m\u001b[0m\u001b[0m\n\u001b[1;32m      4\u001b[0m \u001b[0;31m#mc.generate_states(current_state='000', no=10)\u001b[0m\u001b[0;34m\u001b[0m\u001b[0;34m\u001b[0m\u001b[0;34m\u001b[0m\u001b[0m\n",
            "\u001b[0;31mTypeError\u001b[0m: generate_probabilities() got an unexpected keyword argument 'transition_matrix'"
          ]
        }
      ]
    }
  ]
}